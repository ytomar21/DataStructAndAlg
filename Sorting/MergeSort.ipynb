{
 "cells": [
  {
   "cell_type": "markdown",
   "id": "86a09f9f-3536-4ec2-9ce6-aec54578243f",
   "metadata": {},
   "source": [
    "### This notebook will go over Merge Sort\n",
    "### Runtime Complexity: O(n * log n)\n",
    "### Memory Complexity: O(n) "
   ]
  },
  {
   "cell_type": "markdown",
   "id": "e971f6bd-eaa8-450e-874b-82216cf25d28",
   "metadata": {},
   "source": [
    "### Algorithm visualization: https://antoniosarosi.github.io/Merge-Sort-Visualization/"
   ]
  },
  {
   "cell_type": "code",
   "execution_count": 14,
   "id": "82d2ba5f-34bf-413b-a9b8-404b631f3180",
   "metadata": {},
   "outputs": [],
   "source": [
    "# merge() takes two sorted lists as inputs\n",
    "# and outputs their sorted val\n",
    "def merge(l1,l2):\n",
    "\n",
    "    l1Iter = 0\n",
    "    l2Iter = 0\n",
    "    res = []\n",
    "    while l1Iter < len(l1) or l2Iter < len(l2):\n",
    "\n",
    "        #If l1 has no more elements, extend the rest of l2 into the result\n",
    "        if l1Iter == len(l1):\n",
    "            res.extend(l2[l2Iter:])\n",
    "            break\n",
    "        #If l2 has no more elements, extend the rest of l1 into the result\n",
    "        elif l2Iter == len(l2):\n",
    "            res.extend(l1[l1Iter:])\n",
    "            break\n",
    "        #Else append the next smallest element\n",
    "        else:\n",
    "            if l1[l1Iter] < l2[l2Iter]:\n",
    "                res.append(l1[l1Iter])\n",
    "                l1Iter+=1\n",
    "            else:\n",
    "                res.append(l2[l2Iter])\n",
    "                l2Iter+=1\n",
    "\n",
    "        \n",
    "\n",
    "    return res\n"
   ]
  },
  {
   "cell_type": "code",
   "execution_count": 15,
   "id": "a1d34db7-9335-4de1-8f4d-8682b2d15ccd",
   "metadata": {},
   "outputs": [],
   "source": [
    "#A divide/conquer alg that sorts the left half\n",
    "# and right half of a list then merges the two lists\n",
    "# together\n",
    "def mergeSort(l):\n",
    "\n",
    "    #If the list is empty return an emtpy list\n",
    "    if len(l) == 0: return []\n",
    "    #If the list only has one element return \n",
    "    elif len(l) == 1: return l\n",
    "\n",
    "    #Recursively Call Merge Sort on Left and Right Partition\n",
    "    mid = len(l) // 2\n",
    "\n",
    "    left = mergeSort(l[:mid])\n",
    "    right = mergeSort(l[mid:])\n",
    "\n",
    "    #Return the Merged Lists\n",
    "    return merge(left,right)\n",
    "    "
   ]
  },
  {
   "cell_type": "markdown",
   "id": "bf6754f0-855c-4cd1-b34c-db81eec38030",
   "metadata": {},
   "source": [
    "### Test Examples"
   ]
  },
  {
   "cell_type": "code",
   "execution_count": 16,
   "id": "45357d7f-b4ac-4c16-aa46-79cb59de698e",
   "metadata": {},
   "outputs": [
    {
     "name": "stdout",
     "output_type": "stream",
     "text": [
      "Sorted Lists...\n",
      "list1: [20]\n",
      "list2: [-43, -5, 1, 8, 23, 20000]\n",
      "list3: [1, 1, 1, 1, 1, 1, 1, 5]\n",
      "list4: []\n"
     ]
    }
   ],
   "source": [
    "list1 = [20]\n",
    "list2 = [1,-5,8, 23, 20000, -43]\n",
    "list3 = [1,1,1,1,5,1,1,1]\n",
    "list4 = []\n",
    "\n",
    "print(f'Sorted Lists...')\n",
    "print(f'list1: {mergeSort(list1)}')\n",
    "print(f'list2: {mergeSort(list2)}')\n",
    "print(f'list3: {mergeSort(list3)}')\n",
    "print(f'list4: {mergeSort(list4)}')"
   ]
  },
  {
   "cell_type": "code",
   "execution_count": null,
   "id": "45a15334-26d8-4e58-abf5-576d117fae7b",
   "metadata": {},
   "outputs": [],
   "source": []
  }
 ],
 "metadata": {
  "kernelspec": {
   "display_name": "dev",
   "language": "python",
   "name": "dev"
  },
  "language_info": {
   "codemirror_mode": {
    "name": "ipython",
    "version": 3
   },
   "file_extension": ".py",
   "mimetype": "text/x-python",
   "name": "python",
   "nbconvert_exporter": "python",
   "pygments_lexer": "ipython3",
   "version": "3.11.2"
  }
 },
 "nbformat": 4,
 "nbformat_minor": 5
}
